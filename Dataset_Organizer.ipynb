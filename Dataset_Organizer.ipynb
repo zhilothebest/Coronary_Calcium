{
 "cells": [
  {
   "cell_type": "code",
   "execution_count": 1,
   "metadata": {},
   "outputs": [],
   "source": [
    "import os\n",
    "import shutil\n",
    "from re import search\n",
    "\n",
    "PATH = \"C:\\\\Users\\\\Andrew_Arbogast\\\\Desktop\\\\Codes\\\\UCAIDM\\\\CAIDM Project\\\\DataSets\\\\orCAScore Dataset\\\\\""
   ]
  },
  {
   "cell_type": "code",
   "execution_count": 2,
   "metadata": {},
   "outputs": [],
   "source": [
    "'''Creating Necessary Folders'''\n",
    "\n",
    "if os.path.isdir(PATH + \"Filtered\")==True:\n",
    "    pass\n",
    "else: \n",
    "    os.mkdir(PATH + \"Filtered\")"
   ]
  },
  {
   "cell_type": "code",
   "execution_count": 3,
   "metadata": {},
   "outputs": [],
   "source": [
    "if os.path.isdir(PATH + \"Filtered\\\\Training_Set\")==True:\n",
    "    pass\n",
    "else:\n",
    "    os.mkdir(PATH + \"Filtered\\\\Training_Set\")"
   ]
  },
  {
   "cell_type": "code",
   "execution_count": 4,
   "metadata": {
    "jupyter": {
     "source_hidden": true
    }
   },
   "outputs": [
    {
     "data": {
      "text/plain": [
       "'if os.path.isdir(PATH + \"Filtered\\\\Training_Set\\\\Images\")==True:\\n    pass\\nelse:\\n    os.mkdir(PATH + \"Filtered\\\\Training_Set\\\\Images\")'"
      ]
     },
     "execution_count": 4,
     "metadata": {},
     "output_type": "execute_result"
    }
   ],
   "source": [
    "\"\"\"if os.path.isdir(PATH + \"Filtered\\\\Training_Set\\\\Images\")==True:\n",
    "    pass\n",
    "else:\n",
    "    os.mkdir(PATH + \"Filtered\\\\Training_Set\\\\Images\")\"\"\""
   ]
  },
  {
   "cell_type": "code",
   "execution_count": 5,
   "metadata": {
    "jupyter": {
     "source_hidden": true
    }
   },
   "outputs": [
    {
     "data": {
      "text/plain": [
       "'if os.path.isdir(PATH + \"Filtered\\\\Training_Set\\\\Reference_Std\")==True:\\n    pass\\nelse:\\n    os.mkdir(PATH + \"Filtered\\\\Training_Set\\\\Reference_Std\")'"
      ]
     },
     "execution_count": 5,
     "metadata": {},
     "output_type": "execute_result"
    }
   ],
   "source": [
    "\"\"\"if os.path.isdir(PATH + \"Filtered\\\\Training_Set\\\\Reference_Std\")==True:\n",
    "    pass\n",
    "else:\n",
    "    os.mkdir(PATH + \"Filtered\\\\Training_Set\\\\Reference_Std\")\"\"\""
   ]
  },
  {
   "cell_type": "code",
   "execution_count": 6,
   "metadata": {},
   "outputs": [],
   "source": [
    "if os.path.isdir(PATH + \"Filtered\\\\Testing_Set\")==True:\n",
    "    pass\n",
    "else:\n",
    "    os.mkdir(PATH + \"Filtered\\\\Testing_Set\")"
   ]
  },
  {
   "cell_type": "code",
   "execution_count": 7,
   "metadata": {
    "jupyter": {
     "source_hidden": true
    }
   },
   "outputs": [
    {
     "data": {
      "text/plain": [
       "'if os.path.isdir(PATH + \"Filtered\\\\Other\")==True:\\n    pass\\nelse:\\n    os.mkdir(PATH + \"Filtered\\\\Other\")'"
      ]
     },
     "execution_count": 7,
     "metadata": {},
     "output_type": "execute_result"
    }
   ],
   "source": [
    "\"\"\"if os.path.isdir(PATH + \"Filtered\\\\Other\")==True:\n",
    "    pass\n",
    "else:\n",
    "    os.mkdir(PATH + \"Filtered\\\\Other\")\"\"\""
   ]
  },
  {
   "cell_type": "code",
   "execution_count": 8,
   "metadata": {},
   "outputs": [],
   "source": [
    "'''Getting list of files'''\n",
    "list_files = []\n",
    "\n",
    "for root, dirs, files in os.walk(PATH + \"Unfiltered\"):\n",
    "    for names in files:\n",
    "        list_files.append([names, root])  \n",
    "#print(list_files[0])        "
   ]
  },
  {
   "cell_type": "code",
   "execution_count": 9,
   "metadata": {},
   "outputs": [
    {
     "name": "stdout",
     "output_type": "stream",
     "text": [
      "True\n"
     ]
    }
   ],
   "source": [
    "'''creating training, and testing list'''\n",
    "\n",
    "tev_list=[]\n",
    "trv_list=[]\n",
    "vav_list=[]\n",
    "\n",
    "for name in list_files:\n",
    "    if \"tev\" in name[0]:\n",
    "        tev_list.append(name)\n",
    "    elif \"trv\" in name[0]:\n",
    "        trv_list.append(name)\n",
    "    elif \"vav\" in name[0]:\n",
    "        vav_list.append(name)\n",
    "    else:\n",
    "        pass\n"
   ]
  },
  {
   "cell_type": "code",
   "execution_count": 12,
   "metadata": {},
   "outputs": [],
   "source": [
    "\"\"\"Creating Folders and assigning files to folder\"\"\"\n",
    "PATH_te = PATH + \"Filtered\\\\Testing_Set\"\n",
    "PATH_tr = PATH + \"Filtered\\\\Training_Set\"\n",
    "\n",
    "def organizer(status):\n",
    "    \n",
    "    \n",
    "    if status == \"train\":  # These are for training data\n",
    "        for file in trv_list:\n",
    "            for trv_num, pt_num in range(0,10):\n",
    "                try:\n",
    "                    if \"{}\".format(\"trv\"+str(trv_num)+\"_p\"+str(pt_num)) in file[0]:\n",
    "                        if os.path.isdir(PATH_tr + \"{}\".format(\"trv\"+str(trv_num)+\"_p\"+str(pt_num)))==True:\n",
    "                            pass\n",
    "                        else:\n",
    "                            os.mkdir(PATH_tr + \"{}\".format(\"trv\"+str(trv_num)+\"_p\"+str(pt_num)))\n",
    "                        \n",
    "                        shutil.move(os.path.join(file[1],file[0]),os.path.join(PATH_tr + \"{}\".format(\"trv\"+str(trv_num)+\"_p\"+str(pt_num)),file[0]))\n",
    "                except:\n",
    "                    print(\"Not a valid patient number\")\n",
    "                    \n",
    "                    \n",
    "    if status == \"test\":\n",
    "        for file in tev_list:\n",
    "            for tev_num, pt_num in range(0,10):\n",
    "                try:\n",
    "                    if \"{}\".format(\"tev\"+str(tev_num)+\"_p\"+str(pt_num)) in file[0]:\n",
    "                        if os.path.isdir(PATH_te + \"{}\".format(\"tev\"+str(tev_num)+\"_p\"+str(pt_num)))==True:\n",
    "                            pass\n",
    "                        else:\n",
    "                            os.mkdir(PATH_te + \"{}\".format(\"tev\"+str(tev_num)+\"_p\"+str(pt_num)))\n",
    "                        \n",
    "                        shutil.move(os.path.join(file[1],file[0]),os.path.join(PATH_te + \"{}\".format(\"tev\"+str(tev_num)+\"_p\"+str(pt_num)),file[0]))\n",
    "                except:\n",
    "                    print(\"Not a valid patient number\")\n",
    "    \n",
    "        for file in vav_list:\n",
    "                for vav_num, pt_num in range(0,10):\n",
    "                    try:\n",
    "                        if \"{}\".format(\"vav\"+str(vav_num)+\"_p\"+str(pt_num)) in file[0]:\n",
    "                            if os.path.isdir(PATH_te + \"{}\".format(\"vav\"+str(vav_num)+\"_p\"+str(pt_num)))==True:\n",
    "                                pass\n",
    "                            else:\n",
    "                                os.mkdir(PATH_te + \"{}\".format(\"vav\"+str(vav_num)+\"_p\"+str(pt_num)))\n",
    "\n",
    "                            shutil.move(os.path.join(file[1],file[0]),os.path.join(PATH_te + \"{}\".format(\"vav\"+str(vav_num)+\"_p\"+str(pt_num)),file[0]))\n",
    "                    except:\n",
    "                        print(\"Not a valid patient number\")\n",
    "\n",
    "        \n",
    "  "
   ]
  },
  {
   "cell_type": "code",
   "execution_count": 13,
   "metadata": {},
   "outputs": [
    {
     "ename": "ValueError",
     "evalue": "too many values to unpack (expected 2)",
     "output_type": "error",
     "traceback": [
      "\u001b[1;31m---------------------------------------------------------------------------\u001b[0m",
      "\u001b[1;31mValueError\u001b[0m                                Traceback (most recent call last)",
      "\u001b[1;32m<ipython-input-13-841caf7c900e>\u001b[0m in \u001b[0;36m<module>\u001b[1;34m\u001b[0m\n\u001b[1;32m----> 1\u001b[1;33m \u001b[0morganizer\u001b[0m\u001b[1;33m(\u001b[0m\u001b[1;34m'train'\u001b[0m\u001b[1;33m)\u001b[0m\u001b[1;33m\u001b[0m\u001b[1;33m\u001b[0m\u001b[0m\n\u001b[0m\u001b[0;32m      2\u001b[0m \u001b[0morganizer\u001b[0m\u001b[1;33m(\u001b[0m\u001b[1;34m'test'\u001b[0m\u001b[1;33m)\u001b[0m\u001b[1;33m\u001b[0m\u001b[1;33m\u001b[0m\u001b[0m\n",
      "\u001b[1;32m<ipython-input-12-91413726e78a>\u001b[0m in \u001b[0;36morganizer\u001b[1;34m(status)\u001b[0m\n\u001b[0;32m      8\u001b[0m     \u001b[1;32mif\u001b[0m \u001b[0mstatus\u001b[0m \u001b[1;33m==\u001b[0m \u001b[1;34m\"train\"\u001b[0m\u001b[1;33m:\u001b[0m  \u001b[1;31m# These are for training data\u001b[0m\u001b[1;33m\u001b[0m\u001b[1;33m\u001b[0m\u001b[0m\n\u001b[0;32m      9\u001b[0m         \u001b[1;32mfor\u001b[0m \u001b[0mfile\u001b[0m \u001b[1;32min\u001b[0m \u001b[0mtrv_list\u001b[0m\u001b[1;33m:\u001b[0m\u001b[1;33m\u001b[0m\u001b[1;33m\u001b[0m\u001b[0m\n\u001b[1;32m---> 10\u001b[1;33m             \u001b[1;32mfor\u001b[0m \u001b[0mtrv_num\u001b[0m\u001b[1;33m,\u001b[0m \u001b[0mpt_num\u001b[0m \u001b[1;32min\u001b[0m \u001b[0mrange\u001b[0m\u001b[1;33m(\u001b[0m\u001b[1;36m0\u001b[0m\u001b[1;33m,\u001b[0m\u001b[1;36m10\u001b[0m\u001b[1;33m)\u001b[0m\u001b[1;33m,\u001b[0m\u001b[0mrange\u001b[0m\u001b[1;33m(\u001b[0m\u001b[1;36m0\u001b[0m\u001b[1;33m,\u001b[0m\u001b[1;36m10\u001b[0m\u001b[1;33m)\u001b[0m\u001b[1;33m:\u001b[0m\u001b[1;33m\u001b[0m\u001b[1;33m\u001b[0m\u001b[0m\n\u001b[0m\u001b[0;32m     11\u001b[0m                 \u001b[1;32mtry\u001b[0m\u001b[1;33m:\u001b[0m\u001b[1;33m\u001b[0m\u001b[1;33m\u001b[0m\u001b[0m\n\u001b[0;32m     12\u001b[0m                     \u001b[1;32mif\u001b[0m \u001b[1;34m\"{}\"\u001b[0m\u001b[1;33m.\u001b[0m\u001b[0mformat\u001b[0m\u001b[1;33m(\u001b[0m\u001b[1;34m\"trv\"\u001b[0m\u001b[1;33m+\u001b[0m\u001b[0mstr\u001b[0m\u001b[1;33m(\u001b[0m\u001b[0mtrv_num\u001b[0m\u001b[1;33m)\u001b[0m\u001b[1;33m+\u001b[0m\u001b[1;34m\"_p\"\u001b[0m\u001b[1;33m+\u001b[0m\u001b[0mstr\u001b[0m\u001b[1;33m(\u001b[0m\u001b[0mpt_num\u001b[0m\u001b[1;33m)\u001b[0m\u001b[1;33m)\u001b[0m \u001b[1;32min\u001b[0m \u001b[0mfile\u001b[0m\u001b[1;33m[\u001b[0m\u001b[1;36m0\u001b[0m\u001b[1;33m]\u001b[0m\u001b[1;33m:\u001b[0m\u001b[1;33m\u001b[0m\u001b[1;33m\u001b[0m\u001b[0m\n",
      "\u001b[1;31mValueError\u001b[0m: too many values to unpack (expected 2)"
     ]
    }
   ],
   "source": [
    "organizer('train')\n",
    "organizer('test')"
   ]
  },
  {
   "cell_type": "code",
   "execution_count": null,
   "metadata": {},
   "outputs": [],
   "source": [
    "      \n",
    "        \"\"\"\n",
    "        \n",
    "        for pt_num in range(0,10): # the hieghest patient I saw was 8, but want this to be able to handle any number \n",
    "            trigger = False\n",
    "            try:  # using try becaues if a patient number doesnt exist, I want it to pass\n",
    "               if str()\n",
    "            \n",
    "            \n",
    "            if str(\"p\"+ pt_num) in tev_list:\n",
    "                  print(pt_num,\"Yay \\n\") # just for checking\n",
    "                    \n",
    "                    #making folder for that patient\n",
    "                    if os.path.isdir(PATH_tr + \"\\\\p\"+str(pt_num))==True:\n",
    "                        pass\n",
    "                    else:\n",
    "                        os.mkdir(PATH_tr + \"\\\\p\"+str(pt_num))\n",
    "                    \n",
    "                    #moving file into that folder\n",
    "                    shutil.move()\n",
    "                 \n",
    "                    \n",
    "                    shutil.move(os.path.join(root,names),os.path.join('C:\\\\Users\\\\Andrew_Arbogast\\\\Desktop\\\\Codes\\\\UCAIDM\\\\CAIDM Project\\\\DataSets\\\\orCAScore Dataset\\\\Filtered\\\\Testing_Set', names))\n",
    "\"\"\""
   ]
  },
  {
   "cell_type": "code",
   "execution_count": null,
   "metadata": {},
   "outputs": [],
   "source": [
    "'''for root, dirs, files in os.walk(\"Unfiltered Data\"):\n",
    "    for iter in root, dirs, files:\n",
    "        if files[i][1] == \"TEV*\":\n",
    "            shutil.move(str(dirs[i])+str(root[i])+str(files[i][1]), 'Filtered_Data\\Testing_Set\\'+files[i][1])\n",
    "        elif files[i][1] == \"VAV\" + *:\n",
    "            shutil.move(str(dirs[i])+str(root[i])+str(files[i][1]), \"Filtered_Data\\Testing_Set\\\"+str(files[i][1]))\n",
    "        elif files[i][1] == \"TRV\" + *:\n",
    "            shutil.move(str(dirs[i])+str(root[i])+str(files[i][1]), \"Filtered_Data\\Training_Set\\Images\\\"+str(files[i][1]))\n",
    "        elif files[i][1] == *R.*:\n",
    "            shutil.move(str(dirs[i])+str(root[i])+str(files[i][1]), \"Filtered_Data\\Testing_Set\\Reference_Std\\\"+str(files[i][1]))\n",
    "        else:\n",
    "            shutil.move(str(dirs[i])+str(root[i])+str(files[i][1]), \"Filtered_Data\\Other\\\"+str(files[i][1]))\n",
    "'''"
   ]
  },
  {
   "cell_type": "code",
   "execution_count": null,
   "metadata": {},
   "outputs": [],
   "source": [
    "'''for root, dirs, files in os.walk(\"C:\\\\Users\\\\Andrew_Arbogast\\\\Desktop\\\\Codes\\\\UCAIDM\\\\CAIDM Project\\\\DataSets\\\\orCAScore Dataset\\\\Unfiltered\"):\n",
    "    for names in files:\n",
    "        if \"tev\" in names:\n",
    "            #print(os.path.join(root,names))\n",
    "            #print(os.path.join('Filtered_Data\\\\Testing_Set\\\\', names))\n",
    "            #print(\"this is tev\")\n",
    "            shutil.move(os.path.join(root,names),os.path.join('C:\\\\Users\\\\Andrew_Arbogast\\\\Desktop\\\\Codes\\\\UCAIDM\\\\CAIDM Project\\\\DataSets\\\\orCAScore Dataset\\\\Filtered\\\\Testing_Set', names))\n",
    "        elif \"vav\" in names:\n",
    "            #print(os.path.join(root,names))\n",
    "            #print('Filtered_Data\\\\Testing_Set\\\\'+names)      \n",
    "            #print(\"this is vav\")\n",
    "            shutil.move(os.path.join(root,names),os.path.join('C:\\\\Users\\\\Andrew_Arbogast\\\\Desktop\\\\Codes\\\\UCAIDM\\\\CAIDM Project\\\\DataSets\\\\orCAScore Dataset\\\\Filtered\\\\Testing_Set', names))\n",
    "        elif \"trv\" in names:\n",
    "            #print(os.path.join(root,names))\n",
    "            #print('Filtered_Data\\\\Testing_Set\\\\'+names)\n",
    "            #print(\"this is trv\")\n",
    "            shutil.move(os.path.join(root,names),os.path.join('C:\\\\Users\\\\Andrew_Arbogast\\\\Desktop\\\\Codes\\\\UCAIDM\\\\CAIDM Project\\\\DataSets\\\\orCAScore Dataset\\\\Filtered\\\\Training_Set\\\\Images', names))\n",
    "        elif \"cacheMap\" in names:\n",
    "          pass\n",
    "        else:\n",
    "            shutil.move(os.path.join(root,names),os.path.join('C:\\\\Users\\\\Andrew_Arbogast\\\\Desktop\\\\Codes\\\\UCAIDM\\\\CAIDM Project\\\\DataSets\\\\orCAScore Dataset\\\\Filtered\\\\Training_Set\\\\Reference_Std',names))\n",
    "    '''"
   ]
  },
  {
   "cell_type": "code",
   "execution_count": null,
   "metadata": {},
   "outputs": [],
   "source": []
  }
 ],
 "metadata": {
  "kernelspec": {
   "display_name": "Python 3",
   "language": "python",
   "name": "python3"
  },
  "language_info": {
   "codemirror_mode": {
    "name": "ipython",
    "version": 3
   },
   "file_extension": ".py",
   "mimetype": "text/x-python",
   "name": "python",
   "nbconvert_exporter": "python",
   "pygments_lexer": "ipython3",
   "version": "3.7.6"
  }
 },
 "nbformat": 4,
 "nbformat_minor": 4
}
