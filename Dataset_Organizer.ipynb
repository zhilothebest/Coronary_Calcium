{
 "cells": [
  {
   "cell_type": "code",
   "execution_count": 76,
   "metadata": {},
   "outputs": [],
   "source": [
    "import os\n",
    "import shutil\n",
    "from re import search"
   ]
  },
  {
   "cell_type": "code",
   "execution_count": 77,
   "metadata": {},
   "outputs": [],
   "source": [
    "if os.path.isdir(\"Filtered_Data\")==True:\n",
    "    pass\n",
    "else: \n",
    "    os.mkdir(\"Filtered_Data\")"
   ]
  },
  {
   "cell_type": "code",
   "execution_count": 78,
   "metadata": {},
   "outputs": [],
   "source": [
    "if os.path.isdir(\"Filtered_Data\\Training_Set\")==True:\n",
    "    pass\n",
    "else:\n",
    "    os.mkdir(\"Filtered_Data\\Training_Set\")"
   ]
  },
  {
   "cell_type": "code",
   "execution_count": 79,
   "metadata": {},
   "outputs": [],
   "source": [
    "if os.path.isdir(\"Filtered_Data\\Training_Set\\Images\")==True:\n",
    "    pass\n",
    "else:\n",
    "    os.mkdir(\"Filtered_Data\\Training_Set\\Images\")"
   ]
  },
  {
   "cell_type": "code",
   "execution_count": 80,
   "metadata": {},
   "outputs": [],
   "source": [
    "if os.path.isdir(\"Filtered_Data\\Training_Set\\Reference_Std\")==True:\n",
    "    pass\n",
    "else:\n",
    "    os.mkdir(\"Filtered_Data\\Training_Set\\Reference_Std\")"
   ]
  },
  {
   "cell_type": "code",
   "execution_count": 81,
   "metadata": {},
   "outputs": [],
   "source": [
    "if os.path.isdir(\"Filtered_Data\\Testing_Set\")==True:\n",
    "    pass\n",
    "else:\n",
    "    os.mkdir(\"Filtered_Data\\Testing_Set\")"
   ]
  },
  {
   "cell_type": "code",
   "execution_count": 82,
   "metadata": {},
   "outputs": [],
   "source": [
    "if os.path.isdir(\"Filtered_Data\\Other\")==True:\n",
    "    pass\n",
    "else:\n",
    "    os.mkdir(\"Filtered_Data\\Other\")"
   ]
  },
  {
   "cell_type": "code",
   "execution_count": 83,
   "metadata": {},
   "outputs": [
    {
     "data": {
      "text/plain": [
       "'for root, dirs, files in os.walk(\"Unfiltered Data\"):\\n    for iter in root, dirs, files:\\n        if files[i][1] == \"TEV*\":\\n            shutil.move(str(dirs[i])+str(root[i])+str(files[i][1]), \\'Filtered_Data\\\\Testing_Set\\'+files[i][1])\\n        elif files[i][1] == \"VAV\" + *:\\n            shutil.move(str(dirs[i])+str(root[i])+str(files[i][1]), \"Filtered_Data\\\\Testing_Set\"+str(files[i][1]))\\n        elif files[i][1] == \"TRV\" + *:\\n            shutil.move(str(dirs[i])+str(root[i])+str(files[i][1]), \"Filtered_Data\\\\Training_Set\\\\Images\"+str(files[i][1]))\\n        elif files[i][1] == *R.*:\\n            shutil.move(str(dirs[i])+str(root[i])+str(files[i][1]), \"Filtered_Data\\\\Testing_Set\\\\Reference_Std\"+str(files[i][1]))\\n        else:\\n            shutil.move(str(dirs[i])+str(root[i])+str(files[i][1]), \"Filtered_Data\\\\Other\"+str(files[i][1]))\\n'"
      ]
     },
     "execution_count": 83,
     "metadata": {},
     "output_type": "execute_result"
    }
   ],
   "source": [
    "'''for root, dirs, files in os.walk(\"Unfiltered Data\"):\n",
    "    for iter in root, dirs, files:\n",
    "        if files[i][1] == \"TEV*\":\n",
    "            shutil.move(str(dirs[i])+str(root[i])+str(files[i][1]), 'Filtered_Data\\Testing_Set\\'+files[i][1])\n",
    "        elif files[i][1] == \"VAV\" + *:\n",
    "            shutil.move(str(dirs[i])+str(root[i])+str(files[i][1]), \"Filtered_Data\\Testing_Set\\\"+str(files[i][1]))\n",
    "        elif files[i][1] == \"TRV\" + *:\n",
    "            shutil.move(str(dirs[i])+str(root[i])+str(files[i][1]), \"Filtered_Data\\Training_Set\\Images\\\"+str(files[i][1]))\n",
    "        elif files[i][1] == *R.*:\n",
    "            shutil.move(str(dirs[i])+str(root[i])+str(files[i][1]), \"Filtered_Data\\Testing_Set\\Reference_Std\\\"+str(files[i][1]))\n",
    "        else:\n",
    "            shutil.move(str(dirs[i])+str(root[i])+str(files[i][1]), \"Filtered_Data\\Other\\\"+str(files[i][1]))\n",
    "'''"
   ]
  },
  {
   "cell_type": "code",
   "execution_count": 84,
   "metadata": {},
   "outputs": [],
   "source": [
    "for root, dirs, files in os.walk(\"Unfiltered Data\"):\n",
    "    for names in files:\n",
    "        if \"tev\" in names:\n",
    "            #print(os.path.join(root,names))\n",
    "            #print(os.path.join('Filtered_Data\\\\Testing_Set\\\\', names))\n",
    "            #print(\"this is tev\")\n",
    "            shutil.move(os.path.join(root,names),os.path.join('Filtered_Data\\\\Testing_Set\\\\', names))\n",
    "        elif \"vav\" in names:\n",
    "            #print(os.path.join(root,names))\n",
    "            #print('Filtered_Data\\\\Testing_Set\\\\'+names)      \n",
    "            #print(\"this is vav\")\n",
    "            shutil.move(os.path.join(root,names),os.path.join('Filtered_Data\\\\Testing_Set\\\\', names))\n",
    "        elif \"trv\" in names:\n",
    "            #print(os.path.join(root,names))\n",
    "            #print('Filtered_Data\\\\Testing_Set\\\\'+names)\n",
    "            #print(\"this is trv\")\n",
    "            shutil.move(os.path.join(root,names),os.path.join('Filtered_Data\\\\Training_Set\\\\Images\\\\', names))\n",
    "        elif \"cacheMap\" in names:\n",
    "          pass\n",
    "        else:\n",
    "            shutil.move(os.path.join(root,names),os.path.join('Filtered_Data\\\\Testing_Set\\\\Reference_Std\\\\',names))\n",
    "    "
   ]
  },
  {
   "cell_type": "code",
   "execution_count": null,
   "metadata": {},
   "outputs": [],
   "source": []
  }
 ],
 "metadata": {
  "kernelspec": {
   "display_name": "Python 3",
   "language": "python",
   "name": "python3"
  },
  "language_info": {
   "codemirror_mode": {
    "name": "ipython",
    "version": 3
   },
   "file_extension": ".py",
   "mimetype": "text/x-python",
   "name": "python",
   "nbconvert_exporter": "python",
   "pygments_lexer": "ipython3",
   "version": "3.7.6"
  }
 },
 "nbformat": 4,
 "nbformat_minor": 4
}
