{
 "cells": [
  {
   "cell_type": "code",
   "execution_count": 1,
   "metadata": {},
   "outputs": [],
   "source": [
    "import os\n",
    "import numpy as np\n",
    "from medpy.io import load\n",
    "from scipy.ndimage import rotate\n",
    "from tqdm import tqdm"
   ]
  },
  {
   "cell_type": "code",
   "execution_count": 2,
   "metadata": {},
   "outputs": [],
   "source": [
    "def create_ID_dict(basepath): #currently only set to return CT and segmentation mask images, not CTA's\n",
    "    '''basepath is location of file that is holding dataset, datasets should be deeper in the file tree'''\n",
    "    #logging.info(\"creating dataset location directory/dictionary from {}\".format(basepath))\n",
    "    dicti = {}\n",
    "    mask_list = []\n",
    "    image_list = []\n",
    "    for root, dirs, list_of_files in os.walk(basepath):\n",
    "        for files in list_of_files:\n",
    "            if \"r.mhd\" in files: #checks if files ends in r.mhd, signifying a segmentation truth. appeneded to masked list\n",
    "                mask_list.append(os.path.join(root,files))\n",
    "            else: \n",
    "                pass\n",
    "            \n",
    "            if \"cti.mhd\" in files: #checks if files end in CTI.mhd, and appends it to image list\n",
    "                image_list.append(os.path.join(root,files))\n",
    "            else:\n",
    "                pass\n",
    "    #for the current moment CTA images are not being uploaded.\n",
    "            \n",
    "    dicti.update({\"image\" : image_list })\n",
    "    dicti.update({\"mask\" : mask_list })\n",
    "    #logging.info(\"dictionary created\")\n",
    "    \n",
    "    return dicti\n",
    "\n",
    "def image_preprocessing(dict_path):\n",
    "    image, header = load(dict_path)\n",
    "    image = rotate(image, 90, axes=(0,2), reshape=True) #rotates to axial form sup to inf direction.\n",
    "    \n",
    "    blank_array = np.full((1,512,512),-3024) #-3024 is the \"background\" of the images, and is considered the value for non truth in the segmentation masks\"\n",
    "    \n",
    "    while len(image) < 69: #this while loop with following if statement helps bring all images to size 70x512x512\n",
    "        image = np.append(image, blank_array, axis = 0)\n",
    "        image = np.append(blank_array, image, axis = 0)\n",
    "        \n",
    "    if len(image) == 69:\n",
    "        image = np.append(image,blank_array, axis = 0)\n",
    "    else:\n",
    "        pass\n",
    "    \n",
    "    return image\n",
    "    "
   ]
  },
  {
   "cell_type": "code",
   "execution_count": 3,
   "metadata": {},
   "outputs": [],
   "source": [
    "'''Predetermined Variables'''\n",
    "PATH_tr = 'C:\\\\Users\\\\Andrew_Arbogast\\\\Desktop\\\\Codes\\\\UCAIDM\\\\CAIDM Project\\\\DataSets\\\\orCAScore Dataset\\\\Filtered\\\\Training_Set\\\\Train\\\\'\n",
    "#PATH_val = 'C:\\\\Users\\\\Andrew_Arbogast\\\\Desktop\\\\Codes\\\\UCAIDM\\\\CAIDM Project\\\\DataSets\\\\orCAScore Dataset\\\\Filtered\\\\Training_Set\\\\Validation\\\\'\n",
    "#PATH_te = 'C:\\\\Users\\\\Andrew_Arbogast\\\\Desktop\\\\Codes\\\\UCAIDM\\\\CAIDM Project\\\\DataSets\\\\orCAScore Dataset\\\\Filtered\\\\Testing_Set\\\\'\n",
    "new_path_tr = 'C:\\\\Users\\\\Andrew_Arbogast\\\\Desktop\\\\Codes\\\\UCAIDM\\\\CAIDM Project\\\\DataSets\\\\orCAScore Dataset\\\\Filtered_txt\\\\Training_Set\\\\Train\\\\'\n",
    "base_new_path = 'C:\\\\Users\\\\Andrew_Arbogast\\\\Desktop\\\\Codes\\\\UCAIDM\\\\CAIDM Project\\\\DataSets\\\\orCAScore Dataset\\\\Filtered_txt\\\\'"
   ]
  },
  {
   "cell_type": "code",
   "execution_count": 4,
   "metadata": {},
   "outputs": [],
   "source": [
    "'''Making Folders'''\n",
    "if os.path.isdir(base_new_path)==True:\n",
    "    pass\n",
    "else: \n",
    "    os.mkdir(base_new_path)\n",
    "    \n",
    "if os.path.isdir(base_new_path+\"Training_Set\")==True:\n",
    "    pass\n",
    "else:\n",
    "    os.mkdir(base_new_path+\"Training_Set\")\n",
    "\n",
    "if os.path.isdir(new_path_tr):\n",
    "    pass\n",
    "else:\n",
    "    os.mkdir(new_path_tr)"
   ]
  },
  {
   "cell_type": "code",
   "execution_count": 5,
   "metadata": {},
   "outputs": [
    {
     "name": "stdout",
     "output_type": "stream",
     "text": [
      "['C:\\\\Users\\\\Andrew_Arbogast\\\\Desktop\\\\Codes\\\\UCAIDM\\\\CAIDM Project\\\\DataSets\\\\orCAScore Dataset\\\\Filtered\\\\Training_Set\\\\Train\\\\trv1_p1\\\\trv1p1r.mhd', 'C:\\\\Users\\\\Andrew_Arbogast\\\\Desktop\\\\Codes\\\\UCAIDM\\\\CAIDM Project\\\\DataSets\\\\orCAScore Dataset\\\\Filtered\\\\Training_Set\\\\Train\\\\trv1_p2\\\\trv1p2r.mhd', 'C:\\\\Users\\\\Andrew_Arbogast\\\\Desktop\\\\Codes\\\\UCAIDM\\\\CAIDM Project\\\\DataSets\\\\orCAScore Dataset\\\\Filtered\\\\Training_Set\\\\Train\\\\trv1_p3\\\\trv1p3r.mhd', 'C:\\\\Users\\\\Andrew_Arbogast\\\\Desktop\\\\Codes\\\\UCAIDM\\\\CAIDM Project\\\\DataSets\\\\orCAScore Dataset\\\\Filtered\\\\Training_Set\\\\Train\\\\trv1_p4\\\\trv1p4r.mhd', 'C:\\\\Users\\\\Andrew_Arbogast\\\\Desktop\\\\Codes\\\\UCAIDM\\\\CAIDM Project\\\\DataSets\\\\orCAScore Dataset\\\\Filtered\\\\Training_Set\\\\Train\\\\trv1_p5\\\\trv1p5r.mhd', 'C:\\\\Users\\\\Andrew_Arbogast\\\\Desktop\\\\Codes\\\\UCAIDM\\\\CAIDM Project\\\\DataSets\\\\orCAScore Dataset\\\\Filtered\\\\Training_Set\\\\Train\\\\trv1_p6\\\\trv1p6r.mhd', 'C:\\\\Users\\\\Andrew_Arbogast\\\\Desktop\\\\Codes\\\\UCAIDM\\\\CAIDM Project\\\\DataSets\\\\orCAScore Dataset\\\\Filtered\\\\Training_Set\\\\Train\\\\trv1_p7\\\\trv1p7r.mhd', 'C:\\\\Users\\\\Andrew_Arbogast\\\\Desktop\\\\Codes\\\\UCAIDM\\\\CAIDM Project\\\\DataSets\\\\orCAScore Dataset\\\\Filtered\\\\Training_Set\\\\Train\\\\trv1_p8\\\\trv1p8r.mhd', 'C:\\\\Users\\\\Andrew_Arbogast\\\\Desktop\\\\Codes\\\\UCAIDM\\\\CAIDM Project\\\\DataSets\\\\orCAScore Dataset\\\\Filtered\\\\Training_Set\\\\Train\\\\trv2_p1\\\\trv2p1r.mhd', 'C:\\\\Users\\\\Andrew_Arbogast\\\\Desktop\\\\Codes\\\\UCAIDM\\\\CAIDM Project\\\\DataSets\\\\orCAScore Dataset\\\\Filtered\\\\Training_Set\\\\Train\\\\trv2_p2\\\\trv2p2r.mhd', 'C:\\\\Users\\\\Andrew_Arbogast\\\\Desktop\\\\Codes\\\\UCAIDM\\\\CAIDM Project\\\\DataSets\\\\orCAScore Dataset\\\\Filtered\\\\Training_Set\\\\Train\\\\trv2_p3\\\\trv2p3r.mhd', 'C:\\\\Users\\\\Andrew_Arbogast\\\\Desktop\\\\Codes\\\\UCAIDM\\\\CAIDM Project\\\\DataSets\\\\orCAScore Dataset\\\\Filtered\\\\Training_Set\\\\Train\\\\trv2_p4\\\\trv2p4r.mhd', 'C:\\\\Users\\\\Andrew_Arbogast\\\\Desktop\\\\Codes\\\\UCAIDM\\\\CAIDM Project\\\\DataSets\\\\orCAScore Dataset\\\\Filtered\\\\Training_Set\\\\Train\\\\trv2_p5\\\\trv2p5r.mhd', 'C:\\\\Users\\\\Andrew_Arbogast\\\\Desktop\\\\Codes\\\\UCAIDM\\\\CAIDM Project\\\\DataSets\\\\orCAScore Dataset\\\\Filtered\\\\Training_Set\\\\Train\\\\trv2_p6\\\\trv2p6r.mhd', 'C:\\\\Users\\\\Andrew_Arbogast\\\\Desktop\\\\Codes\\\\UCAIDM\\\\CAIDM Project\\\\DataSets\\\\orCAScore Dataset\\\\Filtered\\\\Training_Set\\\\Train\\\\trv2_p7\\\\trv2p7r.mhd', 'C:\\\\Users\\\\Andrew_Arbogast\\\\Desktop\\\\Codes\\\\UCAIDM\\\\CAIDM Project\\\\DataSets\\\\orCAScore Dataset\\\\Filtered\\\\Training_Set\\\\Train\\\\trv2_p8\\\\trv2p8r.mhd', 'C:\\\\Users\\\\Andrew_Arbogast\\\\Desktop\\\\Codes\\\\UCAIDM\\\\CAIDM Project\\\\DataSets\\\\orCAScore Dataset\\\\Filtered\\\\Training_Set\\\\Train\\\\trv3_p1\\\\trv3p1r.mhd', 'C:\\\\Users\\\\Andrew_Arbogast\\\\Desktop\\\\Codes\\\\UCAIDM\\\\CAIDM Project\\\\DataSets\\\\orCAScore Dataset\\\\Filtered\\\\Training_Set\\\\Train\\\\trv3_p2\\\\trv3p2r.mhd', 'C:\\\\Users\\\\Andrew_Arbogast\\\\Desktop\\\\Codes\\\\UCAIDM\\\\CAIDM Project\\\\DataSets\\\\orCAScore Dataset\\\\Filtered\\\\Training_Set\\\\Train\\\\trv3_p3\\\\trv3p3r.mhd', 'C:\\\\Users\\\\Andrew_Arbogast\\\\Desktop\\\\Codes\\\\UCAIDM\\\\CAIDM Project\\\\DataSets\\\\orCAScore Dataset\\\\Filtered\\\\Training_Set\\\\Train\\\\trv3_p4\\\\trv3p4r.mhd', 'C:\\\\Users\\\\Andrew_Arbogast\\\\Desktop\\\\Codes\\\\UCAIDM\\\\CAIDM Project\\\\DataSets\\\\orCAScore Dataset\\\\Filtered\\\\Training_Set\\\\Train\\\\trv3_p5\\\\trv3p5r.mhd', 'C:\\\\Users\\\\Andrew_Arbogast\\\\Desktop\\\\Codes\\\\UCAIDM\\\\CAIDM Project\\\\DataSets\\\\orCAScore Dataset\\\\Filtered\\\\Training_Set\\\\Train\\\\trv3_p6\\\\trv3p6r.mhd', 'C:\\\\Users\\\\Andrew_Arbogast\\\\Desktop\\\\Codes\\\\UCAIDM\\\\CAIDM Project\\\\DataSets\\\\orCAScore Dataset\\\\Filtered\\\\Training_Set\\\\Train\\\\trv3_p7\\\\trv3p7r.mhd', 'C:\\\\Users\\\\Andrew_Arbogast\\\\Desktop\\\\Codes\\\\UCAIDM\\\\CAIDM Project\\\\DataSets\\\\orCAScore Dataset\\\\Filtered\\\\Training_Set\\\\Train\\\\trv3_p8\\\\trv3p8r.mhd', 'C:\\\\Users\\\\Andrew_Arbogast\\\\Desktop\\\\Codes\\\\UCAIDM\\\\CAIDM Project\\\\DataSets\\\\orCAScore Dataset\\\\Filtered\\\\Training_Set\\\\Train\\\\trv4_p1\\\\trv4p1r.mhd', 'C:\\\\Users\\\\Andrew_Arbogast\\\\Desktop\\\\Codes\\\\UCAIDM\\\\CAIDM Project\\\\DataSets\\\\orCAScore Dataset\\\\Filtered\\\\Training_Set\\\\Train\\\\trv4_p2\\\\trv4p2r.mhd', 'C:\\\\Users\\\\Andrew_Arbogast\\\\Desktop\\\\Codes\\\\UCAIDM\\\\CAIDM Project\\\\DataSets\\\\orCAScore Dataset\\\\Filtered\\\\Training_Set\\\\Train\\\\trv4_p3\\\\trv4p3r.mhd', 'C:\\\\Users\\\\Andrew_Arbogast\\\\Desktop\\\\Codes\\\\UCAIDM\\\\CAIDM Project\\\\DataSets\\\\orCAScore Dataset\\\\Filtered\\\\Training_Set\\\\Train\\\\trv4_p4\\\\trv4p4r.mhd', 'C:\\\\Users\\\\Andrew_Arbogast\\\\Desktop\\\\Codes\\\\UCAIDM\\\\CAIDM Project\\\\DataSets\\\\orCAScore Dataset\\\\Filtered\\\\Training_Set\\\\Train\\\\trv4_p5\\\\trv4p5r.mhd', 'C:\\\\Users\\\\Andrew_Arbogast\\\\Desktop\\\\Codes\\\\UCAIDM\\\\CAIDM Project\\\\DataSets\\\\orCAScore Dataset\\\\Filtered\\\\Training_Set\\\\Train\\\\trv4_p6\\\\trv4p6r.mhd', 'C:\\\\Users\\\\Andrew_Arbogast\\\\Desktop\\\\Codes\\\\UCAIDM\\\\CAIDM Project\\\\DataSets\\\\orCAScore Dataset\\\\Filtered\\\\Training_Set\\\\Train\\\\trv4_p7\\\\trv4p7r.mhd', 'C:\\\\Users\\\\Andrew_Arbogast\\\\Desktop\\\\Codes\\\\UCAIDM\\\\CAIDM Project\\\\DataSets\\\\orCAScore Dataset\\\\Filtered\\\\Training_Set\\\\Train\\\\trv4_p8\\\\trv4p8r.mhd']\n"
     ]
    }
   ],
   "source": [
    "''' Loading Data Sets '''\n",
    "#logging.info(\"loading datasets\")\n",
    "\n",
    "#start_time = time.time()\n",
    "tr_dict = create_ID_dict(PATH_tr)\n",
    "#val_dict = create_ID_dict(PATH_val)\n",
    "#te_dict = create_ID_dict(PATH_te)\n",
    "#end_time = time.time()\n",
    "\n",
    "#print(\"Dictionary Creation Took {} seconds\".format(end_time-start_time))\n",
    "\n",
    "print(tr_dict['mask'])"
   ]
  },
  {
   "cell_type": "code",
   "execution_count": 6,
   "metadata": {},
   "outputs": [
    {
     "name": "stderr",
     "output_type": "stream",
     "text": [
      "100%|██████████████████████████████████████████████████████████████████████████████████| 32/32 [01:12<00:00,  2.25s/it]\n"
     ]
    }
   ],
   "source": [
    "for image_path in tqdm(tr_dict['image']):\n",
    "    for trv_num in range(0,10):\n",
    "        for pt_num in range(0,10):\n",
    "             if \"trv{}p{}\".format(trv_num,pt_num) in image_path:\n",
    "                if os.path.isdir(new_path_tr + \"\\\\trv{}_p{}\".format(trv_num,pt_num))==True:\n",
    "                     pass\n",
    "                else:\n",
    "                     os.mkdir(new_path_tr + \"\\\\trv{}_p{}\".format(trv_num,pt_num))\n",
    "                image = image_preprocessing(image_path)\n",
    "                np.save(new_path_tr + \"\\\\trv{0}_p{1}\\\\trv{0}p{1}cti.npy\".format(trv_num,pt_num),image)   \n",
    "    "
   ]
  },
  {
   "cell_type": "code",
   "execution_count": null,
   "metadata": {},
   "outputs": [
    {
     "name": "stderr",
     "output_type": "stream",
     "text": [
      " 62%|███████████████████████████████████████████████████▎                              | 20/32 [00:42<00:24,  2.07s/it]"
     ]
    }
   ],
   "source": [
    "for image_path in tqdm(tr_dict['mask']):\n",
    "    for trv_num in range(0,10):\n",
    "            for pt_num in range(0,10):\n",
    "                 if \"trv{}p{}r\".format(trv_num,pt_num) in image_path:\n",
    "                    if os.path.isdir(new_path_tr + \"\\\\trv{}_p{}\".format(trv_num,pt_num))==True:\n",
    "                         pass\n",
    "                    else:\n",
    "                         os.mkdir(new_path_tr + \"\\\\trv{}_p{}\".format(trv_num,pt_num))\n",
    "                    image = image_preprocessing(image_path)\n",
    "                    np.save(new_path_tr + \"\\\\trv{0}_p{1}\\\\trv{0}p{1}r.npy\".format(trv_num,pt_num),image)   "
   ]
  }
 ],
 "metadata": {
  "kernelspec": {
   "display_name": "Python 3",
   "language": "python",
   "name": "python3"
  },
  "language_info": {
   "codemirror_mode": {
    "name": "ipython",
    "version": 3
   },
   "file_extension": ".py",
   "mimetype": "text/x-python",
   "name": "python",
   "nbconvert_exporter": "python",
   "pygments_lexer": "ipython3",
   "version": "3.7.6"
  }
 },
 "nbformat": 4,
 "nbformat_minor": 4
}
