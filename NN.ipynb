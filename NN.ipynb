{
 "cells": [
  {
   "cell_type": "code",
   "execution_count": null,
   "metadata": {},
   "outputs": [],
   "source": [
    "import logging\n",
    "import os\n",
    "import numpy as np\n",
    "import tensorflow as tf\n",
    "import tensorflow.keras as tfk\n",
    "from tensorflow.keras import layers\n",
    "import keras\n",
    "import sklearn\n",
    "from sklearn import datasets, preprocessing, model_selection, metrics\n",
    "%matplotlib inline\n",
    "import matplotlib.pyplot as plt\n",
    "from medpy.io import load\n",
    "logging.basicConfig(level = 'logging.INFO')\n"
   ]
  },
  {
   "cell_type": "code",
   "execution_count": null,
   "metadata": {},
   "outputs": [],
   "source": [
    "'''Predetermined Functions'''\n",
    "def image_generator(URL):\n",
    "    image_data, image_header = load(URL)\n",
    "    for iter in range(0,len(image_data[:][:])):\n",
    "        yield image_data[:][:][iter]\n",
    "\n",
    "def ():        "
   ]
  },
  {
   "cell_type": "code",
   "execution_count": null,
   "metadata": {},
   "outputs": [],
   "source": [
    "''' Loading Data Sets '''\n",
    "\n",
    "\n"
   ]
  },
  {
   "cell_type": "code",
   "execution_count": null,
   "metadata": {},
   "outputs": [],
   "source": [
    "''' Creating NN'''\n",
    "\n",
    "if os.path.isdir(\"First_Attempt_Model/Model\")==True:\n",
    "    model=tfk.models.load_model(\"First_Attempt_Model/Model\")\n",
    "else:\n",
    "   \n",
    "''' For a 2D network'''\n",
    "    model= tfk.Sequential()\n",
    "    model.add(Conv2D(64, kernel_size=3, stride=(1,1), activation=’relu’, input_shape=(28,28,1)))\n",
    "    model.add(Conv2D(32, kernel_size=3,stride=(1,1), activation=’relu’))\n",
    "    model.add(Flatten())\n",
    "    model.add(Dense(10, activation=’softmax’))\n",
    "''' For a 3D network'''\n",
    "    #tf.keras.layers.Conv3D(filters, kernel_size, strides=(1, 1, 1), padding='valid', data_format=None,\n",
    "    #dilation_rate=(1, 1, 1), activation=None, use_bias=True,\n",
    "    #kernel_initializer='glorot_uniform', bias_initializer='zeros',\n",
    "    #kernel_regularizer=None, bias_regularizer=None, activity_regularizer=None,\n",
    "    #kernel_constraint=None, bias_constraint=None, **kwargs)\n",
    "    \n",
    "    model.add(Conv3D(filters=64, kernel_size=3,strides=(1, 1, 1), activation=’relu’, input_shape=(28,28,1)))\n",
    "    model.add(Conv3D(filters=32, kernel_size=3,strides=(1, 1, 1), activation=’relu’))\n",
    "    model.add(Flatten())\n",
    "    model.add(Dense(10, activation=’softmax’))\n",
    "    optimizer=tfk.optimizers.Adagrad()\n",
    "    loss=\"sparse_categorical_crossentropy\"\n",
    "    metrics = ['accuracy']\n",
    "    model.compile(optimizer = optimizer, loss= loss, metrics= metrics )\n",
    "    "
   ]
  },
  {
   "cell_type": "code",
   "execution_count": null,
   "metadata": {},
   "outputs": [],
   "source": [
    "\"\"\"Training NN\"\"\"\n",
    "logging.info(\"Training Neural Network\")\n",
    "model.compile(optimizer = optimizer, loss= loss, metrics= metrics )\n",
    "model.save(\"First_Attempt_Model/Model\")\n"
   ]
  },
  {
   "cell_type": "code",
   "execution_count": null,
   "metadata": {},
   "outputs": [],
   "source": []
  }
 ],
 "metadata": {
  "kernelspec": {
   "display_name": "Python 3",
   "language": "python",
   "name": "python3"
  },
  "language_info": {
   "codemirror_mode": {
    "name": "ipython",
    "version": 3
   },
   "file_extension": ".py",
   "mimetype": "text/x-python",
   "name": "python",
   "nbconvert_exporter": "python",
   "pygments_lexer": "ipython3",
   "version": "3.7.6"
  }
 },
 "nbformat": 4,
 "nbformat_minor": 4
}
