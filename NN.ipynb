{
 "cells": [
  {
   "cell_type": "code",
   "execution_count": 2,
   "metadata": {},
   "outputs": [],
   "source": [
    "import logging\n",
    "import os\n",
    "import numpy as np\n",
    "import tensorflow as tf\n",
    "import tensorflow.keras as tfk\n",
    "from tensorflow.keras import layers\n",
    "import keras\n",
    "import sklearn\n",
    "from scipy.ndimage import rotate\n",
    "import scipy\n",
    "import time\n",
    "from sklearn import datasets, preprocessing, model_selection, metrics\n",
    "%matplotlib inline\n",
    "import matplotlib.pyplot as plt\n",
    "from medpy.io import load\n",
    "logging.basicConfig(level = 'logging.INFO')\n"
   ]
  },
  {
   "cell_type": "code",
   "execution_count": 39,
   "metadata": {},
   "outputs": [],
   "source": [
    "'''Predetermined Functions'''\n",
    "def Generic_image_generator(URL):\n",
    "    image_data, image_header = load(URL)\n",
    "    for iter in range(0,len(image_data[:][:])):\n",
    "        yield image_data[iter]\n",
    "\n",
    "def create_ID_dict(basepath):\n",
    "    '''basepath is location of file that is holding dataset, datasets should be deeper in the file tree'''\n",
    "    dict = {}\n",
    "    mask_list = []\n",
    "    image_list = []\n",
    "    for root, dirs, list_of_files in os.walk(basepath):\n",
    "        for files in list_of_files:\n",
    "            if \"r.mhd\" in files:\n",
    "                mask_list.append(os.path.join(root,files))\n",
    "            else: \n",
    "                pass\n",
    "            \n",
    "            if \"cti.mhd\" in files:\n",
    "                image_list.append(os.path.join(root,files))\n",
    "            else:\n",
    "                pass\n",
    "            \n",
    "            \n",
    "    dict.update({\"image\" : image_list })\n",
    "    dict.update({\"mask\" : mask_list })\n",
    "    return dict\n",
    "    \n",
    "    \n",
    "    "
   ]
  },
  {
   "cell_type": "code",
   "execution_count": 41,
   "metadata": {},
   "outputs": [
    {
     "name": "stdout",
     "output_type": "stream",
     "text": [
      "['C:\\\\Users\\\\Andrew_Arbogast\\\\Desktop\\\\Codes\\\\UCAIDM\\\\CAIDM Project\\\\DataSets\\\\orCAScore Dataset\\\\Filtered\\\\Training_Set\\\\Train\\\\trv1_p1\\\\trv1p1cti.mhd', 'C:\\\\Users\\\\Andrew_Arbogast\\\\Desktop\\\\Codes\\\\UCAIDM\\\\CAIDM Project\\\\DataSets\\\\orCAScore Dataset\\\\Filtered\\\\Training_Set\\\\Train\\\\trv1_p2\\\\trv1p2cti.mhd', 'C:\\\\Users\\\\Andrew_Arbogast\\\\Desktop\\\\Codes\\\\UCAIDM\\\\CAIDM Project\\\\DataSets\\\\orCAScore Dataset\\\\Filtered\\\\Training_Set\\\\Train\\\\trv1_p3\\\\trv1p3cti.mhd', 'C:\\\\Users\\\\Andrew_Arbogast\\\\Desktop\\\\Codes\\\\UCAIDM\\\\CAIDM Project\\\\DataSets\\\\orCAScore Dataset\\\\Filtered\\\\Training_Set\\\\Train\\\\trv1_p4\\\\trv1p4cti.mhd', 'C:\\\\Users\\\\Andrew_Arbogast\\\\Desktop\\\\Codes\\\\UCAIDM\\\\CAIDM Project\\\\DataSets\\\\orCAScore Dataset\\\\Filtered\\\\Training_Set\\\\Train\\\\trv1_p5\\\\trv1p5cti.mhd', 'C:\\\\Users\\\\Andrew_Arbogast\\\\Desktop\\\\Codes\\\\UCAIDM\\\\CAIDM Project\\\\DataSets\\\\orCAScore Dataset\\\\Filtered\\\\Training_Set\\\\Train\\\\trv1_p6\\\\trv1p6cti.mhd', 'C:\\\\Users\\\\Andrew_Arbogast\\\\Desktop\\\\Codes\\\\UCAIDM\\\\CAIDM Project\\\\DataSets\\\\orCAScore Dataset\\\\Filtered\\\\Training_Set\\\\Train\\\\trv1_p7\\\\trv1p7cti.mhd', 'C:\\\\Users\\\\Andrew_Arbogast\\\\Desktop\\\\Codes\\\\UCAIDM\\\\CAIDM Project\\\\DataSets\\\\orCAScore Dataset\\\\Filtered\\\\Training_Set\\\\Train\\\\trv1_p8\\\\trv1p8cti.mhd', 'C:\\\\Users\\\\Andrew_Arbogast\\\\Desktop\\\\Codes\\\\UCAIDM\\\\CAIDM Project\\\\DataSets\\\\orCAScore Dataset\\\\Filtered\\\\Training_Set\\\\Train\\\\trv2_p1\\\\trv2p1cti.mhd', 'C:\\\\Users\\\\Andrew_Arbogast\\\\Desktop\\\\Codes\\\\UCAIDM\\\\CAIDM Project\\\\DataSets\\\\orCAScore Dataset\\\\Filtered\\\\Training_Set\\\\Train\\\\trv2_p2\\\\trv2p2cti.mhd', 'C:\\\\Users\\\\Andrew_Arbogast\\\\Desktop\\\\Codes\\\\UCAIDM\\\\CAIDM Project\\\\DataSets\\\\orCAScore Dataset\\\\Filtered\\\\Training_Set\\\\Train\\\\trv2_p3\\\\trv2p3cti.mhd', 'C:\\\\Users\\\\Andrew_Arbogast\\\\Desktop\\\\Codes\\\\UCAIDM\\\\CAIDM Project\\\\DataSets\\\\orCAScore Dataset\\\\Filtered\\\\Training_Set\\\\Train\\\\trv2_p4\\\\trv2p4cti.mhd', 'C:\\\\Users\\\\Andrew_Arbogast\\\\Desktop\\\\Codes\\\\UCAIDM\\\\CAIDM Project\\\\DataSets\\\\orCAScore Dataset\\\\Filtered\\\\Training_Set\\\\Train\\\\trv2_p5\\\\trv2p5cti.mhd', 'C:\\\\Users\\\\Andrew_Arbogast\\\\Desktop\\\\Codes\\\\UCAIDM\\\\CAIDM Project\\\\DataSets\\\\orCAScore Dataset\\\\Filtered\\\\Training_Set\\\\Train\\\\trv2_p6\\\\trv2p6cti.mhd', 'C:\\\\Users\\\\Andrew_Arbogast\\\\Desktop\\\\Codes\\\\UCAIDM\\\\CAIDM Project\\\\DataSets\\\\orCAScore Dataset\\\\Filtered\\\\Training_Set\\\\Train\\\\trv2_p7\\\\trv2p7cti.mhd', 'C:\\\\Users\\\\Andrew_Arbogast\\\\Desktop\\\\Codes\\\\UCAIDM\\\\CAIDM Project\\\\DataSets\\\\orCAScore Dataset\\\\Filtered\\\\Training_Set\\\\Train\\\\trv2_p8\\\\trv2p8cti.mhd', 'C:\\\\Users\\\\Andrew_Arbogast\\\\Desktop\\\\Codes\\\\UCAIDM\\\\CAIDM Project\\\\DataSets\\\\orCAScore Dataset\\\\Filtered\\\\Training_Set\\\\Train\\\\trv3_p1\\\\trv3p1cti.mhd', 'C:\\\\Users\\\\Andrew_Arbogast\\\\Desktop\\\\Codes\\\\UCAIDM\\\\CAIDM Project\\\\DataSets\\\\orCAScore Dataset\\\\Filtered\\\\Training_Set\\\\Train\\\\trv3_p2\\\\trv3p2cti.mhd', 'C:\\\\Users\\\\Andrew_Arbogast\\\\Desktop\\\\Codes\\\\UCAIDM\\\\CAIDM Project\\\\DataSets\\\\orCAScore Dataset\\\\Filtered\\\\Training_Set\\\\Train\\\\trv3_p3\\\\trv3p3cti.mhd', 'C:\\\\Users\\\\Andrew_Arbogast\\\\Desktop\\\\Codes\\\\UCAIDM\\\\CAIDM Project\\\\DataSets\\\\orCAScore Dataset\\\\Filtered\\\\Training_Set\\\\Train\\\\trv3_p4\\\\trv3p4cti.mhd', 'C:\\\\Users\\\\Andrew_Arbogast\\\\Desktop\\\\Codes\\\\UCAIDM\\\\CAIDM Project\\\\DataSets\\\\orCAScore Dataset\\\\Filtered\\\\Training_Set\\\\Train\\\\trv3_p5\\\\trv3p5cti.mhd', 'C:\\\\Users\\\\Andrew_Arbogast\\\\Desktop\\\\Codes\\\\UCAIDM\\\\CAIDM Project\\\\DataSets\\\\orCAScore Dataset\\\\Filtered\\\\Training_Set\\\\Train\\\\trv3_p6\\\\trv3p6cti.mhd', 'C:\\\\Users\\\\Andrew_Arbogast\\\\Desktop\\\\Codes\\\\UCAIDM\\\\CAIDM Project\\\\DataSets\\\\orCAScore Dataset\\\\Filtered\\\\Training_Set\\\\Train\\\\trv3_p7\\\\trv3p7cti.mhd', 'C:\\\\Users\\\\Andrew_Arbogast\\\\Desktop\\\\Codes\\\\UCAIDM\\\\CAIDM Project\\\\DataSets\\\\orCAScore Dataset\\\\Filtered\\\\Training_Set\\\\Train\\\\trv3_p8\\\\trv3p8cti.mhd', 'C:\\\\Users\\\\Andrew_Arbogast\\\\Desktop\\\\Codes\\\\UCAIDM\\\\CAIDM Project\\\\DataSets\\\\orCAScore Dataset\\\\Filtered\\\\Training_Set\\\\Train\\\\trv4_p1\\\\trv4p1cti.mhd', 'C:\\\\Users\\\\Andrew_Arbogast\\\\Desktop\\\\Codes\\\\UCAIDM\\\\CAIDM Project\\\\DataSets\\\\orCAScore Dataset\\\\Filtered\\\\Training_Set\\\\Train\\\\trv4_p2\\\\trv4p2cti.mhd', 'C:\\\\Users\\\\Andrew_Arbogast\\\\Desktop\\\\Codes\\\\UCAIDM\\\\CAIDM Project\\\\DataSets\\\\orCAScore Dataset\\\\Filtered\\\\Training_Set\\\\Train\\\\trv4_p3\\\\trv4p3cti.mhd', 'C:\\\\Users\\\\Andrew_Arbogast\\\\Desktop\\\\Codes\\\\UCAIDM\\\\CAIDM Project\\\\DataSets\\\\orCAScore Dataset\\\\Filtered\\\\Training_Set\\\\Train\\\\trv4_p4\\\\trv4p4cti.mhd', 'C:\\\\Users\\\\Andrew_Arbogast\\\\Desktop\\\\Codes\\\\UCAIDM\\\\CAIDM Project\\\\DataSets\\\\orCAScore Dataset\\\\Filtered\\\\Training_Set\\\\Train\\\\trv4_p5\\\\trv4p5cti.mhd', 'C:\\\\Users\\\\Andrew_Arbogast\\\\Desktop\\\\Codes\\\\UCAIDM\\\\CAIDM Project\\\\DataSets\\\\orCAScore Dataset\\\\Filtered\\\\Training_Set\\\\Train\\\\trv4_p6\\\\trv4p6cti.mhd', 'C:\\\\Users\\\\Andrew_Arbogast\\\\Desktop\\\\Codes\\\\UCAIDM\\\\CAIDM Project\\\\DataSets\\\\orCAScore Dataset\\\\Filtered\\\\Training_Set\\\\Train\\\\trv4_p7\\\\trv4p7cti.mhd', 'C:\\\\Users\\\\Andrew_Arbogast\\\\Desktop\\\\Codes\\\\UCAIDM\\\\CAIDM Project\\\\DataSets\\\\orCAScore Dataset\\\\Filtered\\\\Training_Set\\\\Train\\\\trv4_p8\\\\trv4p8cti.mhd']\n"
     ]
    }
   ],
   "source": [
    "PATH = 'C:\\\\Users\\\\Andrew_Arbogast\\\\Desktop\\\\Codes\\\\UCAIDM\\\\CAIDM Project\\\\DataSets\\\\orCAScore Dataset\\\\Filtered\\\\Training_Set\\\\Train'\n",
    "\n",
    "test_dict = create_ID_dict(PATH)\n",
    "\n",
    "print(test_dict[\"image\"])\n",
    "\n"
   ]
  },
  {
   "cell_type": "code",
   "execution_count": null,
   "metadata": {},
   "outputs": [],
   "source": [
    "\"\"\"Need to do\"\"\"\n",
    "'''\n",
    "- Create a dictionary of paths of IDs for training, and validation. \n",
    "- feed this into a generator function, website (https://www.kaggle.com/abhmul/python-image-generator-tutorial) IN 14\n",
    "- make a generator to control batch size input. batchsize =1?\n",
    "- Batchsize = 1 so it goes 1 at a time?\n",
    "\n",
    "\n",
    "'''"
   ]
  },
  {
   "cell_type": "code",
   "execution_count": null,
   "metadata": {},
   "outputs": [],
   "source": [
    "'''Predetermined Variables'''\n",
    "PATH="
   ]
  },
  {
   "cell_type": "code",
   "execution_count": null,
   "metadata": {},
   "outputs": [],
   "source": [
    "''' Loading Data Sets '''\n",
    "\n",
    "\n"
   ]
  },
  {
   "cell_type": "code",
   "execution_count": null,
   "metadata": {},
   "outputs": [],
   "source": [
    "''' Creating NN'''\n",
    "\n",
    "if os.path.isdir(\"First_Attempt_Model/Model\")==True:\n",
    "    model=tfk.models.load_model(\"First_Attempt_Model/Model\")\n",
    "else:\n",
    "   \n",
    "''' For a 2D network'''\n",
    "    model= tfk.Sequential()\n",
    "    model.add(Conv2D(64, kernel_size=3, stride=(1,1), activation=’relu’, input_shape=(28,28,1)))\n",
    "    model.add(Conv2D(32, kernel_size=3,stride=(1,1), activation=’relu’))\n",
    "    model.add(Flatten())\n",
    "    model.add(Dense(10, activation=’softmax’))\n",
    "''' For a 3D network'''\n",
    "    #tf.keras.layers.Conv3D(filters, kernel_size, strides=(1, 1, 1), padding='valid', data_format=None,\n",
    "    #dilation_rate=(1, 1, 1), activation=None, use_bias=True,\n",
    "    #kernel_initializer='glorot_uniform', bias_initializer='zeros',\n",
    "    #kernel_regularizer=None, bias_regularizer=None, activity_regularizer=None,\n",
    "    #kernel_constraint=None, bias_constraint=None, **kwargs)\n",
    "    \n",
    "    model.add(Conv3D(filters=64, kernel_size=3,strides=(1, 1, 1), activation=’relu’, input_shape=(28,28,1)))\n",
    "    model.add(Conv3D(filters=32, kernel_size=3,strides=(1, 1, 1), activation=’relu’))\n",
    "    model.add(Flatten())\n",
    "    model.add(Dense(10, activation=’softmax’))\n",
    "    optimizer=tfk.optimizers.Adagrad()\n",
    "    loss=\"sparse_categorical_crossentropy\"\n",
    "    metrics = ['accuracy']\n",
    "    model.compile(optimizer = optimizer, loss= loss, metrics= metrics )\n",
    "    "
   ]
  },
  {
   "cell_type": "code",
   "execution_count": null,
   "metadata": {},
   "outputs": [],
   "source": [
    "\"\"\"Training NN\"\"\"\n",
    "logging.info(\"Training Neural Network\")\n",
    "model.compile(optimizer = optimizer, loss= loss, metrics= metrics )\n",
    "model.save(\"First_Attempt_Model/Model\")\n"
   ]
  },
  {
   "cell_type": "code",
   "execution_count": null,
   "metadata": {},
   "outputs": [],
   "source": []
  }
 ],
 "metadata": {
  "kernelspec": {
   "display_name": "Python 3",
   "language": "python",
   "name": "python3"
  },
  "language_info": {
   "codemirror_mode": {
    "name": "ipython",
    "version": 3
   },
   "file_extension": ".py",
   "mimetype": "text/x-python",
   "name": "python",
   "nbconvert_exporter": "python",
   "pygments_lexer": "ipython3",
   "version": "3.7.6"
  }
 },
 "nbformat": 4,
 "nbformat_minor": 4
}
